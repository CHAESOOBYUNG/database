{
 "cells": [
  {
   "cell_type": "code",
   "execution_count": 1,
   "metadata": {},
   "outputs": [
    {
     "name": "stdout",
     "output_type": "stream",
     "text": [
      "Collecting oracledb\n",
      "  Downloading oracledb-2.5.0-cp311-cp311-win_amd64.whl.metadata (5.6 kB)\n",
      "Collecting cryptography>=3.2.1 (from oracledb)\n",
      "  Downloading cryptography-44.0.0-cp39-abi3-win_amd64.whl.metadata (5.7 kB)\n",
      "Collecting cffi>=1.12 (from cryptography>=3.2.1->oracledb)\n",
      "  Downloading cffi-1.17.1-cp311-cp311-win_amd64.whl.metadata (1.6 kB)\n",
      "Collecting pycparser (from cffi>=1.12->cryptography>=3.2.1->oracledb)\n",
      "  Downloading pycparser-2.22-py3-none-any.whl.metadata (943 bytes)\n",
      "Downloading oracledb-2.5.0-cp311-cp311-win_amd64.whl (1.8 MB)\n",
      "   ---------------------------------------- 0.0/1.8 MB ? eta -:--:--\n",
      "   - -------------------------------------- 0.1/1.8 MB 1.7 MB/s eta 0:00:02\n",
      "   ----------- ---------------------------- 0.5/1.8 MB 6.7 MB/s eta 0:00:01\n",
      "   ----------------------- ---------------- 1.1/1.8 MB 8.5 MB/s eta 0:00:01\n",
      "   ----------------------------------- ---- 1.6/1.8 MB 9.3 MB/s eta 0:00:01\n",
      "   ---------------------------------------- 1.8/1.8 MB 8.8 MB/s eta 0:00:00\n",
      "Downloading cryptography-44.0.0-cp39-abi3-win_amd64.whl (3.2 MB)\n",
      "   ---------------------------------------- 0.0/3.2 MB ? eta -:--:--\n",
      "   ------- -------------------------------- 0.6/3.2 MB 12.5 MB/s eta 0:00:01\n",
      "   ------------- -------------------------- 1.1/3.2 MB 11.9 MB/s eta 0:00:01\n",
      "   -------------------- ------------------- 1.7/3.2 MB 11.8 MB/s eta 0:00:01\n",
      "   --------------------------- ------------ 2.2/3.2 MB 11.7 MB/s eta 0:00:01\n",
      "   ---------------------------------- ----- 2.7/3.2 MB 11.7 MB/s eta 0:00:01\n",
      "   ---------------------------------------  3.2/3.2 MB 11.3 MB/s eta 0:00:01\n",
      "   ---------------------------------------- 3.2/3.2 MB 10.8 MB/s eta 0:00:00\n",
      "Downloading cffi-1.17.1-cp311-cp311-win_amd64.whl (181 kB)\n",
      "   ---------------------------------------- 0.0/181.4 kB ? eta -:--:--\n",
      "   --------------------------------------- 181.4/181.4 kB 10.7 MB/s eta 0:00:00\n",
      "Downloading pycparser-2.22-py3-none-any.whl (117 kB)\n",
      "   ---------------------------------------- 0.0/117.6 kB ? eta -:--:--\n",
      "   ---------------------------------------- 117.6/117.6 kB 6.7 MB/s eta 0:00:00\n",
      "Installing collected packages: pycparser, cffi, cryptography, oracledb\n",
      "Successfully installed cffi-1.17.1 cryptography-44.0.0 oracledb-2.5.0 pycparser-2.22\n"
     ]
    },
    {
     "name": "stderr",
     "output_type": "stream",
     "text": [
      "\n",
      "[notice] A new release of pip is available: 24.0 -> 24.3.1\n",
      "[notice] To update, run: python.exe -m pip install --upgrade pip\n"
     ]
    }
   ],
   "source": [
    "! pip install oracledb"
   ]
  },
  {
   "cell_type": "code",
   "execution_count": null,
   "metadata": {},
   "outputs": [
    {
     "name": "stdout",
     "output_type": "stream",
     "text": [
      "데이터베이스 연결 준비...\n",
      "데이터베이스 연결 성공\n",
      "BOOK NO \t BOOK NAME \t\t PUBLISHER \t PRICE\n",
      "\t1\t축구의 역사\t\t굿스포츠\t7000\n",
      "\t2\t축구아는 여자\t\t나무수\t13000\n",
      "\t3\t축구의 이해\t\t대한미디어\t22000\n",
      "\t4\t골프 바이블\t\t대한미디어\t35000\n",
      "\t5\t피겨 교본\t\t굿스포츠\t8000\n",
      "\t6\t역도 단계별 기술\t\t굿스포츠\t6000\n",
      "\t7\t야구의 추억\t\t이상미디어\t20000\n",
      "\t8\t야구를 부탁해\t\t이상미디어\t13000\n",
      "\t9\t올림픽 이야기\t\t삼성당\t7500\n",
      "\t10\tOlympic Champions\t\tPearson\t13000\n",
      "데이터베이스 작업 완료\n",
      "데이터베이스 연결 종료\n"
     ]
    }
   ],
   "source": [
    "import oracledb as cx_Oracle\n",
    "\n",
    "class BookList:\n",
    "    def __init__(self):\n",
    "        # Oracle Instant Client 경로\n",
    "        client_lib_dir = \"D:\\\\Oracle\\\\instantclient-basic-windows.x64-19.25.0.0.0dbru\\\\instantclient_19_25\"\n",
    "        cx_Oracle.init_oracle_client(lib_dir=client_lib_dir)\n",
    "\n",
    "        # Oracle 데이터베이스 연결 정보\n",
    "        self.dsn = cx_Oracle.makedsn(\"localhost\", 1521, sid=\"xe\")\n",
    "        self.user = \"scott\"\n",
    "        self.password = \"tiger\"\n",
    "\n",
    "        try:\n",
    "            print(\"데이터베이스 연결 준비...\")\n",
    "            self.connection = cx_Oracle.connect(user=self.user, password=self.password, dsn=self.dsn)\n",
    "            print(\"데이터베이스 연결 성공\")\n",
    "        except cx_Oracle.DatabaseError as e:\n",
    "            print(\"데이터베이스 연결 실패:\", e)\n",
    "            self.connection = None\n",
    "    \n",
    "    def sql_run(self):\n",
    "        if self.connection is None:\n",
    "            print(\"데이터베이스 연결이 없습니다.\")\n",
    "            return\n",
    "        \n",
    "        query = \"SELECT * FROM Book\"\n",
    "        try:\n",
    "            with self.connection.cursor() as cursor:\n",
    "                cursor.execute(query)\n",
    "                print(\"BOOK NO \\t BOOK NAME \\t\\t PUBLISHER \\t PRICE\")\n",
    "                for row in cursor:\n",
    "                    print(f\"\\t{row[0]}\\t{row[1]}\\t\\t{row[2]}\\t{row[3]}\")\n",
    "            \n",
    "            print(\"데이터베이스 작업 완료\")\n",
    "        except cx_Oracle.DatabaseError as e:\n",
    "            print(\"SQL 실행 중 오류 발생:\", e)\n",
    "        finally:\n",
    "            if self.connection:\n",
    "                self.connection.close()\n",
    "                print(\"데이터베이스 연결 종료\")\n",
    "\n",
    "if __name__ == \"__main__\":\n",
    "    book_list = BookList()\n",
    "    book_list.sql_run()"
   ]
  }
 ],
 "metadata": {
  "kernelspec": {
   "display_name": "Python 3",
   "language": "python",
   "name": "python3"
  },
  "language_info": {
   "codemirror_mode": {
    "name": "ipython",
    "version": 3
   },
   "file_extension": ".py",
   "mimetype": "text/x-python",
   "name": "python",
   "nbconvert_exporter": "python",
   "pygments_lexer": "ipython3",
   "version": "3.11.9"
  }
 },
 "nbformat": 4,
 "nbformat_minor": 2
}
